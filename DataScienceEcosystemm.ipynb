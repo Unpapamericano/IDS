{
 "cells": [
  {
   "cell_type": "markdown",
   "metadata": {},
   "source": [
    "<center>\n",
    "    <img src=\"https://cf-courses-data.s3.us.cloud-object-storage.appdomain.cloud/IBMDeveloperSkillsNetwork-DS0105EN-SkillsNetwork/labs/Module2/images/SN_web_lightmode.png\" width=\"300\" alt=\"cognitiveclass.ai logo\">\n",
    "</center>\n"
   ]
  },
  {
   "cell_type": "markdown",
   "metadata": {
    "tags": []
   },
   "source": [
    "#### Add your code below following the instructions given in the course"
   ]
  },
  {
   "cell_type": "markdown",
   "metadata": {},
   "source": [
    "### My_NB"
   ]
  },
  {
   "cell_type": "markdown",
   "metadata": {},
   "source": [
    "# Introduction"
   ]
  },
  {
   "cell_type": "markdown",
   "metadata": {},
   "source": [
    "### In this Jupyter Notebook I will solve the requested tasks"
   ]
  },
  {
   "cell_type": "markdown",
   "metadata": {},
   "source": [
    "## Data Science Languages\n",
    "\n",
    "Data scientists often use a variety of programming languages for tasks such as data analysis, machine learning, and data visualization. Some of the most commonly used data science languages include:\n",
    "\n",
    "1. **Python:** Widely recognized as one of the primary languages for data science, Python offers numerous libraries and frameworks like NumPy, pandas, scikit-learn, and Matplotlib for data manipulation, analysis, and visualization.\n",
    "\n",
    "2. **R:** R is another popular language specifically designed for statistical analysis and data visualization. It has a rich ecosystem of packages like ggplot2, dplyr, and tidyr.\n",
    "\n",
    "3. **SQL:** Structured Query Language (SQL) is essential for database management, querying, and retrieval of data. It's a critical tool for data preprocessing and integration.\n",
    "\n",
    "4. **Julia:** Known for its high-performance capabilities, Julia is gaining popularity in data science for tasks that require intensive computations.\n",
    "\n",
    "5. **Scala:** Scala, often used with Apache Spark, is an option for distributed data processing and big data analysis.\n",
    "\n",
    "6. **Java:** Java is used in data science for building scalable applications and deploying machine learning models.\n",
    "\n",
    "7. **SAS:** SAS (Statistical Analysis System) is a software suite used for advanced analytics, data management, and reporting.\n",
    "\n",
    "These languages offer a wide range of capabilities to address different aspects of data science projects, making them valuable tools in the field."
   ]
  },
  {
   "cell_type": "code",
   "execution_count": null,
   "metadata": {},
   "outputs": [],
   "source": []
  }
 ],
 "metadata": {
  "kernelspec": {
   "display_name": "Python",
   "language": "python",
   "name": "conda-env-python-py"
  },
  "language_info": {
   "codemirror_mode": {
    "name": "ipython",
    "version": 3
   },
   "file_extension": ".py",
   "mimetype": "text/x-python",
   "name": "python",
   "nbconvert_exporter": "python",
   "pygments_lexer": "ipython3",
   "version": "3.7.12"
  }
 },
 "nbformat": 4,
 "nbformat_minor": 4
}
